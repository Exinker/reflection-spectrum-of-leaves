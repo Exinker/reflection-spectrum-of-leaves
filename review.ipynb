{
 "cells": [
  {
   "cell_type": "code",
   "execution_count": null,
   "metadata": {},
   "outputs": [],
   "source": [
    "import os\n",
    "\n",
    "import pandas as pd\n",
    "import matplotlib.pyplot as plt\n",
    "\n",
    "from core.config import FILEDIR\n"
   ]
  },
  {
   "cell_type": "code",
   "execution_count": null,
   "metadata": {},
   "outputs": [],
   "source": [
    "for label in ['white', 'red', 'green', 'yellow']:\n",
    "    data = pd.read_csv(\n",
    "        os.path.join('.', 'data', FILEDIR, f'file ({label}).csv'),\n",
    "        delimiter=',',\n",
    "    )\n",
    "\n",
    "    plt.plot(\n",
    "        data['wavelength'], data['intensity'],\n",
    "        color='black' if label == 'white' else label,\n",
    "        label=label,\n",
    "    )\n",
    "\n",
    "\n",
    "plt.xlabel('$\\lambda, nm$')\n",
    "plt.ylabel('$I, \\%$')\n",
    "plt.grid(\n",
    "    color='grey', linestyle=':',\n",
    ")\n",
    "plt.legend()\n",
    "\n",
    "# save\n",
    "filedir = os.path.join('.', 'img', FILEDIR)\n",
    "if not os.path.isdir(filedir):\n",
    "    os.mkdir(filedir)\n",
    "\n",
    "filepath = os.path.join(filedir, 'pic.png')\n",
    "plt.savefig(\n",
    "    filepath,\n",
    ")\n",
    "\n",
    "# show\n",
    "plt.show()"
   ]
  },
  {
   "cell_type": "code",
   "execution_count": null,
   "metadata": {},
   "outputs": [],
   "source": [
    "green = pd.read_csv(\n",
    "    os.path.join('.', 'data', FILEDIR, 'file (green).csv'),\n",
    "    delimiter=',',\n",
    ")\n",
    "yellow = pd.read_csv(\n",
    "    os.path.join('.', 'data', FILEDIR, 'file (yellow).csv'),\n",
    "    delimiter=',',\n",
    ")\n",
    "\n",
    "ratio = pd.DataFrame(dict(\n",
    "    wavelength=yellow.wavelength,\n",
    "    intensity=yellow.intensity / green.intensity,\n",
    "))\n",
    "\n",
    "\n",
    "#\n",
    "plt.plot(\n",
    "    ratio['wavelength'], ratio['intensity'],\n",
    "    color='black',\n",
    "    label='ratio',\n",
    ")\n",
    "\n",
    "plt.axhline(\n",
    "    1,\n",
    "    color='red', linestyle='-', linewidth=1,\n",
    "    alpha=1,\n",
    ")\n",
    "plt.axhline(\n",
    "    0,\n",
    "    color='red', linestyle='-', linewidth=1,\n",
    "    alpha=.0,\n",
    ")\n",
    "\n",
    "plt.xlabel(r'$\\lambda, nm$')\n",
    "plt.ylabel(r'$\\rho$')\n",
    "plt.grid(\n",
    "    color='grey', linestyle=':'\n",
    ")\n",
    "plt.legend()\n",
    "\n",
    "plt.show()"
   ]
  },
  {
   "cell_type": "code",
   "execution_count": null,
   "metadata": {},
   "outputs": [],
   "source": []
  }
 ],
 "metadata": {
  "kernelspec": {
   "display_name": "env",
   "language": "python",
   "name": "python3"
  },
  "language_info": {
   "codemirror_mode": {
    "name": "ipython",
    "version": 3
   },
   "file_extension": ".py",
   "mimetype": "text/x-python",
   "name": "python",
   "nbconvert_exporter": "python",
   "pygments_lexer": "ipython3",
   "version": "3.10.11"
  },
  "orig_nbformat": 4
 },
 "nbformat": 4,
 "nbformat_minor": 2
}
